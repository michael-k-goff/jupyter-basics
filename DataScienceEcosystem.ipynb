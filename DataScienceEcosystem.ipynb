{
 "cells": [
  {
   "cell_type": "markdown",
   "id": "6cb14d1f",
   "metadata": {},
   "source": [
    "# Data Science Tools and Ecosystem"
   ]
  },
  {
   "cell_type": "markdown",
   "id": "bea35bed",
   "metadata": {},
   "source": [
    "In this notebook, Data Science Tools and Ecosystem are summarized."
   ]
  },
  {
   "cell_type": "markdown",
   "id": "749a2102",
   "metadata": {},
   "source": [
    "Some of the popular languages that Data Scientists use are:\n",
    "\n",
    "1) Python\n",
    "2) Julia\n",
    "3) R"
   ]
  },
  {
   "cell_type": "markdown",
   "id": "f1d5bf9f",
   "metadata": {},
   "source": [
    "Some of the commonly used libraries used by Data Scientists include:\n",
    "\n",
    "1) Pandas\n",
    "2) Numpy\n",
    "3) Matplotlib\n",
    "4) Scikit-learn"
   ]
  },
  {
   "cell_type": "markdown",
   "id": "c7192dbd",
   "metadata": {},
   "source": [
    "|Tool|Description|\n",
    "|-|-|\n",
    "|nltk|Natural Language Processing|\n",
    "|Tensorflow|Deep Learning|\n",
    "|Keras|An interface on top of Tensorflow|\n",
    "|OpenCV|Computer Vision|"
   ]
  },
  {
   "cell_type": "markdown",
   "id": "f3299982",
   "metadata": {},
   "source": [
    "### Below are a few examples of evaluating arithmetic expressions in Python"
   ]
  },
  {
   "cell_type": "code",
   "execution_count": 1,
   "id": "b97fb0f6",
   "metadata": {},
   "outputs": [
    {
     "data": {
      "text/plain": [
       "17"
      ]
     },
     "execution_count": 1,
     "metadata": {},
     "output_type": "execute_result"
    }
   ],
   "source": [
    "# This a simple arithmetic expression to mutiply then add integer\n",
    "\n",
    "(3*4)+5"
   ]
  },
  {
   "cell_type": "code",
   "execution_count": 2,
   "id": "f0b945c4",
   "metadata": {},
   "outputs": [
    {
     "data": {
      "text/plain": [
       "3.3333333333333335"
      ]
     },
     "execution_count": 2,
     "metadata": {},
     "output_type": "execute_result"
    }
   ],
   "source": [
    "def minutes_to_hours(h):\n",
    "    return h/60\n",
    "minutes_to_hours(200)"
   ]
  },
  {
   "cell_type": "markdown",
   "id": "2063ad30",
   "metadata": {},
   "source": [
    "Objectives\n",
    "\n",
    "- Download and install Jupyter notebook locally\n",
    "- Demonstrate basic python code with Jupyter\n",
    "- Demonstrate markdown: lists, tables, etc."
   ]
  },
  {
   "cell_type": "markdown",
   "id": "64b28e1c",
   "metadata": {},
   "source": [
    "## Author\n",
    "\n",
    "Michael Goff"
   ]
  },
  {
   "cell_type": "code",
   "execution_count": null,
   "id": "2752a132",
   "metadata": {},
   "outputs": [],
   "source": []
  }
 ],
 "metadata": {
  "kernelspec": {
   "display_name": "Python 3 (ipykernel)",
   "language": "python",
   "name": "python3"
  },
  "language_info": {
   "codemirror_mode": {
    "name": "ipython",
    "version": 3
   },
   "file_extension": ".py",
   "mimetype": "text/x-python",
   "name": "python",
   "nbconvert_exporter": "python",
   "pygments_lexer": "ipython3",
   "version": "3.10.9"
  }
 },
 "nbformat": 4,
 "nbformat_minor": 5
}
